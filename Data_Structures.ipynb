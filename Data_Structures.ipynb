{
  "nbformat": 4,
  "nbformat_minor": 0,
  "metadata": {
    "colab": {
      "provenance": []
    },
    "kernelspec": {
      "name": "python3",
      "display_name": "Python 3"
    },
    "language_info": {
      "name": "python"
    }
  },
  "cells": [
    {
      "cell_type": "markdown",
      "source": [
        "**Data Structures and Types**"
      ],
      "metadata": {
        "id": "CtuzNwfV3G0K"
      }
    },
    {
      "cell_type": "markdown",
      "source": [
        "Q1. What are data structures, and why are they important?\n",
        "- Data structures are ways to store and organize data. They help make data easier to access, use, and manage efficiently.\n",
        "\n",
        "Q2. Explain the difference between mutable and immutable data types with examples\n",
        "- Mutable: Can be changed. Example: List ([1, 2])\n",
        "\n",
        "- Immutable: Cannot be changed. Example: Tuple ((1, 2)), String (\"hello\")\n",
        "\n",
        "Q3. What are the main differences between lists and tuples in Python?\n",
        "\n",
        "- Lists: Mutable, use [], slower\n",
        "\n",
        "- Tuples: Immutable, use (), faster\n",
        "\n",
        "Q4. Describe how dictionaries store data\n",
        "- Dictionaries store data as key-value pairs like {key: value}. Each key is unique.\n",
        "\n",
        "Q5. Why might you use a set instead of a list in Python?\n",
        "- Sets remove duplicates automatically and check for membership faster.\n",
        "\n",
        "Q6. What is a string in Python, and how is it different from a list?\n",
        "- A string is a sequence of characters (e.g., \"hello\"). Unlike lists, strings are immutable.\n",
        "\n",
        "Q7. How do tuples ensure data integrity in Python?\n",
        "- Tuples can't be changed after creation, which keeps the data safe and unchanged.\n",
        "\n",
        "Q8. What is a hash table, and how does it relate to dictionaries in Python?\n",
        "- A hash table stores data using a key. Python dictionaries use hash tables to find values quickly using keys.\n",
        "\n",
        "Q9. Can lists contain different data types in Python?\n",
        "- Yes, lists can have different data types like [1, \"hello\", True].\n",
        "\n",
        "Q10. Explain why strings are immutable in Python\n",
        "- Strings are immutable to make them secure, save memory, and work better with hashing.\n",
        "\n",
        "Q11. What advantages do dictionaries offer over lists for certain tasks?\n",
        "- Dictionaries are faster for looking up values by keys and are better when data has labels.\n",
        "\n",
        "Q12. Describe a scenario where using a tuple would be preferable over a list\n",
        "- When storing fixed data like coordinates (5, 6) or dates (2025, 7, 23) that shouldn't change.\n",
        "\n",
        "Q13. How do sets handle duplicate values in Python?\n",
        "- Sets automatically remove duplicate values.\n",
        "\n",
        "Q14. How does the “in” keyword work differently for lists and dictionaries?\n",
        "- In lists: Checks if a value exists.\n",
        "\n",
        "- In dictionaries: Checks if a key exists.\n",
        "\n",
        "Q15. Can you modify the elements of a tuple? Explain why or why not\n",
        "- No, tuples are immutable, so their elements can't be changed after creation.\n",
        "\n",
        "Q16. What is a nested dictionary, and give an example of its use case\n",
        "- A dictionary inside another dictionary.\n",
        "Example: {\"person\": {\"name\": \"Alice\", \"age\": 25}}\n",
        "Use case: Storing complex data like user profiles.\n",
        "\n",
        "Q17. Describe the time complexity of accessing elements in a dictionary\n",
        "- Accessing elements in a dictionary is on average O(1) — very fast.\n",
        "\n",
        "Q18. In what situations are lists preferred over dictionaries?\n",
        "- When order matters, or when storing items without labels (like a to-do list).\n",
        "\n",
        "Q19. Why are dictionaries considered unordered, and how does that affect data retrieval?\n",
        "- Older Python versions didn't keep key order. Retrieval uses keys, not positions, so order usually doesn’t matter.\n",
        "\n",
        "Q20. Explain the difference between a list and a dictionary in terms of data retrieval.\n",
        "- List: Retrieve by position/index (e.g., list[0])\n",
        "\n",
        "- Dictionary: Retrieve by key (e.g., dict[\"name\"]"
      ],
      "metadata": {
        "id": "bt9BVnjq3tHD"
      }
    },
    {
      "cell_type": "code",
      "source": [
        "#Q1. Create a string with your name and print it\n",
        "name = \"John\"\n",
        "print(name)\n"
      ],
      "metadata": {
        "colab": {
          "base_uri": "https://localhost:8080/"
        },
        "id": "gvAYI9z35R4O",
        "outputId": "a40146ff-388a-42ca-a100-14329c4d91cf"
      },
      "execution_count": 1,
      "outputs": [
        {
          "output_type": "stream",
          "name": "stdout",
          "text": [
            "John\n"
          ]
        }
      ]
    },
    {
      "cell_type": "code",
      "execution_count": 2,
      "metadata": {
        "colab": {
          "base_uri": "https://localhost:8080/"
        },
        "id": "ogjthObG3CBB",
        "outputId": "5527efdf-bb25-45b2-e6d4-9b969b1e4f96"
      },
      "outputs": [
        {
          "output_type": "stream",
          "name": "stdout",
          "text": [
            "11\n"
          ]
        }
      ],
      "source": [
        "#Q2.Find the length of the string \"Hello World\"\n",
        "text = \"Hello World\"\n",
        "print(len(text))\n"
      ]
    },
    {
      "cell_type": "code",
      "source": [
        "#Q3. Slice the first 3 characters from the string \"Python Programming\"\n",
        "text = \"Python Programming\"\n",
        "print(text[:3])\n"
      ],
      "metadata": {
        "colab": {
          "base_uri": "https://localhost:8080/"
        },
        "id": "2M_e_Yab5k4D",
        "outputId": "ec65038b-fe62-4faa-c6a1-71985584eea1"
      },
      "execution_count": 3,
      "outputs": [
        {
          "output_type": "stream",
          "name": "stdout",
          "text": [
            "Pyt\n"
          ]
        }
      ]
    },
    {
      "cell_type": "code",
      "source": [
        "#Q4. Convert the string \"hello\" to uppercase\n",
        "word = \"hello\"\n",
        "print(word.upper())\n"
      ],
      "metadata": {
        "colab": {
          "base_uri": "https://localhost:8080/"
        },
        "id": "MWXUnNsX5lC7",
        "outputId": "699fcbc3-06de-4516-be62-1a4d9cf8304d"
      },
      "execution_count": 4,
      "outputs": [
        {
          "output_type": "stream",
          "name": "stdout",
          "text": [
            "HELLO\n"
          ]
        }
      ]
    },
    {
      "cell_type": "code",
      "source": [
        "#Q5. Replace \"apple\" with \"orange\" in \"I like apple\"\n",
        "sentence = \"I like apple\"\n",
        "print(sentence.replace(\"apple\", \"orange\"))\n"
      ],
      "metadata": {
        "colab": {
          "base_uri": "https://localhost:8080/"
        },
        "id": "1u2R8MrK5lG5",
        "outputId": "f1f4410e-fb06-4107-cd0e-fa786dd9243a"
      },
      "execution_count": 5,
      "outputs": [
        {
          "output_type": "stream",
          "name": "stdout",
          "text": [
            "I like orange\n"
          ]
        }
      ]
    },
    {
      "cell_type": "code",
      "source": [
        "#Q6. Create a list with numbers 1 to 5 and print it\n",
        "numbers = [1, 2, 3, 4, 5]\n",
        "print(numbers)\n"
      ],
      "metadata": {
        "colab": {
          "base_uri": "https://localhost:8080/"
        },
        "id": "bNuJbLhT5lKX",
        "outputId": "09c83256-0376-4afb-d613-09110a546a54"
      },
      "execution_count": 6,
      "outputs": [
        {
          "output_type": "stream",
          "name": "stdout",
          "text": [
            "[1, 2, 3, 4, 5]\n"
          ]
        }
      ]
    },
    {
      "cell_type": "code",
      "source": [
        "#Q7. Append the number 10 to the list [1, 2, 3, 4]\n",
        "lst = [1, 2, 3, 4]\n",
        "lst.append(10)\n",
        "print(lst)\n"
      ],
      "metadata": {
        "colab": {
          "base_uri": "https://localhost:8080/"
        },
        "id": "iZdTygr35lPo",
        "outputId": "33a2e374-0651-450a-b3ec-1373bb7db7d5"
      },
      "execution_count": 7,
      "outputs": [
        {
          "output_type": "stream",
          "name": "stdout",
          "text": [
            "[1, 2, 3, 4, 10]\n"
          ]
        }
      ]
    },
    {
      "cell_type": "code",
      "source": [
        "#8. Remove the number 3 from the list [1, 2, 3, 4, 5]\n",
        "lst = [1, 2, 3, 4, 5]\n",
        "lst.remove(3)\n",
        "print(lst)\n"
      ],
      "metadata": {
        "colab": {
          "base_uri": "https://localhost:8080/"
        },
        "id": "tDGJmJtQ5lSw",
        "outputId": "63fc85a5-7e03-42f4-8896-3db306ae2b75"
      },
      "execution_count": 8,
      "outputs": [
        {
          "output_type": "stream",
          "name": "stdout",
          "text": [
            "[1, 2, 4, 5]\n"
          ]
        }
      ]
    },
    {
      "cell_type": "code",
      "source": [
        "#Q9. Access the second element in the list ['a', 'b', 'c', 'd']\n",
        "letters = ['a', 'b', 'c', 'd']\n",
        "print(letters[1])\n"
      ],
      "metadata": {
        "colab": {
          "base_uri": "https://localhost:8080/"
        },
        "id": "Pj9PM0sy5lVs",
        "outputId": "0601f0a9-2569-40d7-ff16-ef7614e582e8"
      },
      "execution_count": 9,
      "outputs": [
        {
          "output_type": "stream",
          "name": "stdout",
          "text": [
            "b\n"
          ]
        }
      ]
    },
    {
      "cell_type": "code",
      "source": [
        "#Q10. Reverse the list [10, 20, 30, 40, 50]\n",
        "lst = [10, 20, 30, 40, 50]\n",
        "lst.reverse()\n",
        "print(lst)\n"
      ],
      "metadata": {
        "colab": {
          "base_uri": "https://localhost:8080/"
        },
        "id": "ejqewQUW5lYo",
        "outputId": "ecc3d345-4e3c-4024-8576-310ce139a7af"
      },
      "execution_count": 10,
      "outputs": [
        {
          "output_type": "stream",
          "name": "stdout",
          "text": [
            "[50, 40, 30, 20, 10]\n"
          ]
        }
      ]
    },
    {
      "cell_type": "code",
      "source": [
        "#Q11. Create a tuple with elements 100, 200, 300 and print it\n",
        "tup = (100, 200, 300)\n",
        "print(tup)\n"
      ],
      "metadata": {
        "colab": {
          "base_uri": "https://localhost:8080/"
        },
        "id": "W9g1Z8Hp5leS",
        "outputId": "e6230ffe-8c89-4ef5-b9c0-b762508c3ee0"
      },
      "execution_count": 11,
      "outputs": [
        {
          "output_type": "stream",
          "name": "stdout",
          "text": [
            "(100, 200, 300)\n"
          ]
        }
      ]
    },
    {
      "cell_type": "code",
      "source": [
        "#Q12. Access second-to-last element of tuple ('red', 'green', 'blue', 'yellow')\n",
        "colors = ('red', 'green', 'blue', 'yellow')\n",
        "print(colors[-2])\n"
      ],
      "metadata": {
        "colab": {
          "base_uri": "https://localhost:8080/"
        },
        "id": "CZJu2Q-V6LWn",
        "outputId": "b82d92fb-e80f-4cb9-89fe-9cb49062d690"
      },
      "execution_count": 12,
      "outputs": [
        {
          "output_type": "stream",
          "name": "stdout",
          "text": [
            "blue\n"
          ]
        }
      ]
    },
    {
      "cell_type": "code",
      "source": [
        "#Q13. Find the minimum number in the tuple (10, 20, 5, 15)\n",
        "nums = (10, 20, 5, 15)\n",
        "print(min(nums))\n"
      ],
      "metadata": {
        "colab": {
          "base_uri": "https://localhost:8080/"
        },
        "id": "kmG7UmCk6LzI",
        "outputId": "97c5ad59-ea6c-4030-bd14-5600053e2901"
      },
      "execution_count": 13,
      "outputs": [
        {
          "output_type": "stream",
          "name": "stdout",
          "text": [
            "5\n"
          ]
        }
      ]
    },
    {
      "cell_type": "code",
      "source": [
        "#Q14. Find the index of \"cat\" in the tuple ('dog', 'cat', 'rabbit')\n",
        "animals = ('dog', 'cat', 'rabbit')\n",
        "print(animals.index(\"cat\"))\n"
      ],
      "metadata": {
        "colab": {
          "base_uri": "https://localhost:8080/"
        },
        "id": "nI1ZdPSO6L9Y",
        "outputId": "f238ead3-2227-400b-adba-26a684d4567d"
      },
      "execution_count": 14,
      "outputs": [
        {
          "output_type": "stream",
          "name": "stdout",
          "text": [
            "1\n"
          ]
        }
      ]
    },
    {
      "cell_type": "code",
      "source": [
        "#Q15. Check if \"kiwi\" is in a fruit tuple\n",
        "fruits = (\"apple\", \"banana\", \"cherry\")\n",
        "print(\"kiwi\" in fruits)\n",
        "\n"
      ],
      "metadata": {
        "colab": {
          "base_uri": "https://localhost:8080/"
        },
        "id": "nSb26_Sc6MGc",
        "outputId": "b5c6075b-94f5-4dc3-d4b2-899fe1da6760"
      },
      "execution_count": 15,
      "outputs": [
        {
          "output_type": "stream",
          "name": "stdout",
          "text": [
            "False\n"
          ]
        }
      ]
    },
    {
      "cell_type": "code",
      "source": [
        "#Q16. Create a set with elements 'a', 'b', 'c' and print it\n",
        "s = {'a', 'b', 'c'}\n",
        "print(s)\n"
      ],
      "metadata": {
        "colab": {
          "base_uri": "https://localhost:8080/"
        },
        "id": "2Sru6czg6MPi",
        "outputId": "25de7a71-120d-402d-82a9-ca3f7307d38e"
      },
      "execution_count": 16,
      "outputs": [
        {
          "output_type": "stream",
          "name": "stdout",
          "text": [
            "{'c', 'b', 'a'}\n"
          ]
        }
      ]
    },
    {
      "cell_type": "code",
      "source": [
        "#Q17. Clear all elements from set {1, 2, 3, 4, 5}\n",
        "s = {1, 2, 3, 4, 5}\n",
        "s.clear()\n",
        "print(s)\n"
      ],
      "metadata": {
        "colab": {
          "base_uri": "https://localhost:8080/"
        },
        "id": "sGKgkirO6MYI",
        "outputId": "4176ab4f-c4ff-4683-9418-5858870fab38"
      },
      "execution_count": 17,
      "outputs": [
        {
          "output_type": "stream",
          "name": "stdout",
          "text": [
            "set()\n"
          ]
        }
      ]
    },
    {
      "cell_type": "code",
      "source": [
        "#Q18. Remove element 4 from set {1, 2, 3, 4}\n",
        "s = {1, 2, 3, 4}\n",
        "s.remove(4)\n",
        "print(s)\n"
      ],
      "metadata": {
        "colab": {
          "base_uri": "https://localhost:8080/"
        },
        "id": "Zg2hE0d66Mgz",
        "outputId": "418d2cb2-334b-4909-c820-a717e7e427d8"
      },
      "execution_count": 18,
      "outputs": [
        {
          "output_type": "stream",
          "name": "stdout",
          "text": [
            "{1, 2, 3}\n"
          ]
        }
      ]
    },
    {
      "cell_type": "code",
      "source": [
        "#Q19. Find union of sets {1, 2, 3} and {3, 4, 5}\n",
        "a = {1, 2, 3}\n",
        "b = {3, 4, 5}\n",
        "print(a.union(b))\n"
      ],
      "metadata": {
        "colab": {
          "base_uri": "https://localhost:8080/"
        },
        "id": "COVPiOU26Mpy",
        "outputId": "8251ec43-11d6-4ca2-96ef-f53adfacc779"
      },
      "execution_count": 19,
      "outputs": [
        {
          "output_type": "stream",
          "name": "stdout",
          "text": [
            "{1, 2, 3, 4, 5}\n"
          ]
        }
      ]
    },
    {
      "cell_type": "code",
      "source": [
        "#Q20. Find intersection of sets {1, 2, 3} and {2, 3, 4}\n",
        "a = {1, 2, 3}\n",
        "b = {2, 3, 4}\n",
        "print(a.intersection(b))\n"
      ],
      "metadata": {
        "colab": {
          "base_uri": "https://localhost:8080/"
        },
        "id": "TkYX8rtW6MzN",
        "outputId": "8b9d1b70-accb-4f7d-c492-e9e6507e1d1f"
      },
      "execution_count": 20,
      "outputs": [
        {
          "output_type": "stream",
          "name": "stdout",
          "text": [
            "{2, 3}\n"
          ]
        }
      ]
    },
    {
      "cell_type": "code",
      "source": [
        "#Q21. Create a dictionary with keys \"name\", \"age\", \"city\" and print it\n",
        "person = {\"name\": \"John\", \"age\": 25, \"city\": \"New York\"}\n",
        "print(person)\n"
      ],
      "metadata": {
        "colab": {
          "base_uri": "https://localhost:8080/"
        },
        "id": "09numA5Y6M76",
        "outputId": "36b3f868-85f1-4dca-fb15-c6042af37b5c"
      },
      "execution_count": 21,
      "outputs": [
        {
          "output_type": "stream",
          "name": "stdout",
          "text": [
            "{'name': 'John', 'age': 25, 'city': 'New York'}\n"
          ]
        }
      ]
    },
    {
      "cell_type": "code",
      "source": [
        "#Q22. Add \"country\": \"USA\" to dictionary {'name': 'John', 'age': 25}\n",
        "person = {'name': 'John', 'age': 25}\n",
        "person['country'] = 'USA'\n",
        "print(person)\n"
      ],
      "metadata": {
        "colab": {
          "base_uri": "https://localhost:8080/"
        },
        "id": "QpbaKvvy6NFT",
        "outputId": "0320e665-6a6c-495c-898e-86e8656aad0a"
      },
      "execution_count": 22,
      "outputs": [
        {
          "output_type": "stream",
          "name": "stdout",
          "text": [
            "{'name': 'John', 'age': 25, 'country': 'USA'}\n"
          ]
        }
      ]
    },
    {
      "cell_type": "code",
      "source": [
        "#Q23. Access value of \"name\" in {'name': 'Alice', 'age': 30}\n",
        "info = {'name': 'Alice', 'age': 30}\n",
        "print(info['name'])\n"
      ],
      "metadata": {
        "colab": {
          "base_uri": "https://localhost:8080/"
        },
        "id": "IBUT8XBw6NNH",
        "outputId": "d695f3e9-5b08-40b7-94e4-9c3da176d3c3"
      },
      "execution_count": 23,
      "outputs": [
        {
          "output_type": "stream",
          "name": "stdout",
          "text": [
            "Alice\n"
          ]
        }
      ]
    },
    {
      "cell_type": "code",
      "source": [
        "#Q24. Remove key \"age\" from dictionary {'name': 'Bob', 'age': 22, 'city': 'New York'}\n",
        "person = {'name': 'Bob', 'age': 22, 'city': 'New York'}\n",
        "del person['age']\n",
        "print(person)\n"
      ],
      "metadata": {
        "colab": {
          "base_uri": "https://localhost:8080/"
        },
        "id": "YjqZI2IP6NV6",
        "outputId": "7c6e99d6-58f2-4f5f-f627-0e4b4d354b31"
      },
      "execution_count": 24,
      "outputs": [
        {
          "output_type": "stream",
          "name": "stdout",
          "text": [
            "{'name': 'Bob', 'city': 'New York'}\n"
          ]
        }
      ]
    },
    {
      "cell_type": "code",
      "source": [
        "#Q25. Check if \"city\" exists in {'name': 'Alice', 'city': 'Paris'}\n",
        "data = {'name': 'Alice', 'city': 'Paris'}\n",
        "print(\"city\" in data)\n"
      ],
      "metadata": {
        "colab": {
          "base_uri": "https://localhost:8080/"
        },
        "id": "F6CfmuAj6Ne_",
        "outputId": "1e1f5797-132f-4a03-b362-7199082e5c32"
      },
      "execution_count": 25,
      "outputs": [
        {
          "output_type": "stream",
          "name": "stdout",
          "text": [
            "True\n"
          ]
        }
      ]
    },
    {
      "cell_type": "code",
      "source": [
        "#Q26. Create and print a list, tuple, and dictionary\n",
        "lst = [1, 2, 3]\n",
        "tup = (4, 5, 6)\n",
        "dct = {\"a\": 1, \"b\": 2}\n",
        "print(lst, tup, dct)\n"
      ],
      "metadata": {
        "colab": {
          "base_uri": "https://localhost:8080/"
        },
        "id": "7xUjwbCf6NoP",
        "outputId": "a9e5facb-6c43-46b7-f851-96706313f442"
      },
      "execution_count": 26,
      "outputs": [
        {
          "output_type": "stream",
          "name": "stdout",
          "text": [
            "[1, 2, 3] (4, 5, 6) {'a': 1, 'b': 2}\n"
          ]
        }
      ]
    },
    {
      "cell_type": "code",
      "source": [
        "#Q27. Create list of 5 random numbers between 1-100, sort and print\n",
        "import random\n",
        "numbers = random.sample(range(1, 101), 5)\n",
        "numbers.sort()\n",
        "print(numbers)\n"
      ],
      "metadata": {
        "colab": {
          "base_uri": "https://localhost:8080/"
        },
        "id": "-Hh6B1x-6Nwo",
        "outputId": "de85ff91-0db2-4aca-d27c-b61c899205a5"
      },
      "execution_count": 27,
      "outputs": [
        {
          "output_type": "stream",
          "name": "stdout",
          "text": [
            "[42, 49, 59, 75, 80]\n"
          ]
        }
      ]
    },
    {
      "cell_type": "code",
      "source": [
        "#Q28. Create list with strings and print element at third index\n",
        "words = [\"apple\", \"banana\", \"cherry\", \"date\", \"fig\"]\n",
        "print(words[3])\n"
      ],
      "metadata": {
        "colab": {
          "base_uri": "https://localhost:8080/"
        },
        "id": "74fx9M706N45",
        "outputId": "1450a022-8220-413b-e2bb-46a0a9b389fd"
      },
      "execution_count": 28,
      "outputs": [
        {
          "output_type": "stream",
          "name": "stdout",
          "text": [
            "date\n"
          ]
        }
      ]
    },
    {
      "cell_type": "code",
      "source": [
        "#Q29. Combine two dictionaries and print the result\n",
        "a = {\"x\": 1, \"y\": 2}\n",
        "b = {\"z\": 3}\n",
        "combined = {**a, **b}\n",
        "print(combined)\n"
      ],
      "metadata": {
        "colab": {
          "base_uri": "https://localhost:8080/"
        },
        "id": "XDmKrI9J6OCT",
        "outputId": "c07df7f3-f005-435b-8c81-2e4050ad06f5"
      },
      "execution_count": 29,
      "outputs": [
        {
          "output_type": "stream",
          "name": "stdout",
          "text": [
            "{'x': 1, 'y': 2, 'z': 3}\n"
          ]
        }
      ]
    },
    {
      "cell_type": "code",
      "source": [
        "#Q30. Convert list of strings into a set\n",
        "words = [\"apple\", \"banana\", \"cherry\"]\n",
        "word_set = set(words)\n",
        "print(word_set)\n"
      ],
      "metadata": {
        "colab": {
          "base_uri": "https://localhost:8080/"
        },
        "id": "42XZyZLL6OKE",
        "outputId": "5ac2bf74-88eb-44cc-d8d1-bf55fba43f06"
      },
      "execution_count": 30,
      "outputs": [
        {
          "output_type": "stream",
          "name": "stdout",
          "text": [
            "{'apple', 'banana', 'cherry'}\n"
          ]
        }
      ]
    }
  ]
}